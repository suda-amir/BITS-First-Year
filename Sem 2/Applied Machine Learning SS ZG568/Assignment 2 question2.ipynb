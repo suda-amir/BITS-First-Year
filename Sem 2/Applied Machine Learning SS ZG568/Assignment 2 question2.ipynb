{
 "cells": [
  {
   "cell_type": "code",
   "execution_count": 1,
   "id": "through-diversity",
   "metadata": {},
   "outputs": [
    {
     "name": "stderr",
     "output_type": "stream",
     "text": [
      "C:\\Users\\irijdm\\Anaconda3\\lib\\site-packages\\tensorflow\\python\\framework\\dtypes.py:526: FutureWarning: Passing (type, 1) or '1type' as a synonym of type is deprecated; in a future version of numpy, it will be understood as (type, (1,)) / '(1,)type'.\n",
      "  _np_qint8 = np.dtype([(\"qint8\", np.int8, 1)])\n",
      "C:\\Users\\irijdm\\Anaconda3\\lib\\site-packages\\tensorflow\\python\\framework\\dtypes.py:527: FutureWarning: Passing (type, 1) or '1type' as a synonym of type is deprecated; in a future version of numpy, it will be understood as (type, (1,)) / '(1,)type'.\n",
      "  _np_quint8 = np.dtype([(\"quint8\", np.uint8, 1)])\n",
      "C:\\Users\\irijdm\\Anaconda3\\lib\\site-packages\\tensorflow\\python\\framework\\dtypes.py:528: FutureWarning: Passing (type, 1) or '1type' as a synonym of type is deprecated; in a future version of numpy, it will be understood as (type, (1,)) / '(1,)type'.\n",
      "  _np_qint16 = np.dtype([(\"qint16\", np.int16, 1)])\n",
      "C:\\Users\\irijdm\\Anaconda3\\lib\\site-packages\\tensorflow\\python\\framework\\dtypes.py:529: FutureWarning: Passing (type, 1) or '1type' as a synonym of type is deprecated; in a future version of numpy, it will be understood as (type, (1,)) / '(1,)type'.\n",
      "  _np_quint16 = np.dtype([(\"quint16\", np.uint16, 1)])\n",
      "C:\\Users\\irijdm\\Anaconda3\\lib\\site-packages\\tensorflow\\python\\framework\\dtypes.py:530: FutureWarning: Passing (type, 1) or '1type' as a synonym of type is deprecated; in a future version of numpy, it will be understood as (type, (1,)) / '(1,)type'.\n",
      "  _np_qint32 = np.dtype([(\"qint32\", np.int32, 1)])\n",
      "C:\\Users\\irijdm\\Anaconda3\\lib\\site-packages\\tensorflow\\python\\framework\\dtypes.py:535: FutureWarning: Passing (type, 1) or '1type' as a synonym of type is deprecated; in a future version of numpy, it will be understood as (type, (1,)) / '(1,)type'.\n",
      "  np_resource = np.dtype([(\"resource\", np.ubyte, 1)])\n"
     ]
    }
   ],
   "source": [
    "\n",
    "# Importing the libraries\n",
    "import numpy as np\n",
    "import pandas as pd\n",
    "import tensorflow as tf\n"
   ]
  },
  {
   "cell_type": "code",
   "execution_count": 2,
   "id": "yellow-danger",
   "metadata": {},
   "outputs": [],
   "source": [
    "# Converting Txt file into csv file with column names \n",
    "import pandas as pd\n",
    "data = pd.read_csv(\"Skin_NonSkin.txt\",header=None)\n",
    "data.columns=['Blue','Green','Red','Skin_NonSkin']\n",
    "# renaming the label 1 as 0 and 2 as 1\n",
    "data[\"Skin_NonSkin\"].replace({1: 0, 2: 1}, inplace=True)\n",
    "data.to_csv('Skin_NonSkin.csv',index=None)\n"
   ]
  },
  {
   "cell_type": "code",
   "execution_count": 3,
   "id": "narrative-toyota",
   "metadata": {},
   "outputs": [],
   "source": [
    "#import Dataset\n",
    "dataset=pd.read_csv('Skin_NonSkin.csv')\n",
    "x=dataset.iloc[:,:-1].values\n",
    "Y=dataset.iloc[:,-1].values\n"
   ]
  },
  {
   "cell_type": "markdown",
   "id": "royal-asthma",
   "metadata": {},
   "source": [
    "# 3. Remove columns that don’t help the problem statement\n",
    "\n",
    "    here we need to use all three columns for training because they are interrelated, so all the columns(Blue,Green,Ren) are helpful in this dataset. no need to remove any columns\n"
   ]
  },
  {
   "cell_type": "code",
   "execution_count": 4,
   "id": "native-alliance",
   "metadata": {},
   "outputs": [],
   "source": [
    "# Splitting the dataset into the Training set and Test set\n",
    "from sklearn.model_selection import train_test_split\n",
    "X_train, X_test, y_train, y_test = train_test_split(x, Y, test_size = 0.3,random_state=100)\n"
   ]
  },
  {
   "cell_type": "code",
   "execution_count": 5,
   "id": "complete-shopping",
   "metadata": {},
   "outputs": [],
   "source": [
    "# Feature Scaling\n",
    "from sklearn.preprocessing import StandardScaler\n",
    "sc = StandardScaler()\n",
    "X_train = sc.fit_transform(X_train)\n",
    "X_test = sc.transform(X_test)\n"
   ]
  },
  {
   "cell_type": "code",
   "execution_count": 6,
   "id": "acting-noise",
   "metadata": {},
   "outputs": [
    {
     "name": "stdout",
     "output_type": "stream",
     "text": [
      "WARNING:tensorflow:From C:\\Users\\irijdm\\Anaconda3\\lib\\site-packages\\tensorflow\\python\\ops\\resource_variable_ops.py:435: colocate_with (from tensorflow.python.framework.ops) is deprecated and will be removed in a future version.\n",
      "Instructions for updating:\n",
      "Colocations handled automatically by placer.\n",
      "WARNING:tensorflow:From C:\\Users\\irijdm\\Anaconda3\\lib\\site-packages\\tensorflow\\python\\ops\\math_ops.py:3066: to_int32 (from tensorflow.python.ops.math_ops) is deprecated and will be removed in a future version.\n",
      "Instructions for updating:\n",
      "Use tf.cast instead.\n",
      "Epoch 1/50\n",
      "171539/171539 [==============================] - 3s 20us/sample - loss: 0.2694 - acc: 0.8900\n",
      "Epoch 2/50\n",
      "171539/171539 [==============================] - 3s 19us/sample - loss: 0.1559 - acc: 0.9399\n",
      "Epoch 3/50\n",
      "171539/171539 [==============================] - 3s 18us/sample - loss: 0.1280 - acc: 0.9526\n",
      "Epoch 4/50\n",
      "171539/171539 [==============================] - 3s 19us/sample - loss: 0.1058 - acc: 0.9618\n",
      "Epoch 5/50\n",
      "171539/171539 [==============================] - 3s 19us/sample - loss: 0.0878 - acc: 0.9760\n",
      "Epoch 6/50\n",
      "171539/171539 [==============================] - 3s 19us/sample - loss: 0.0742 - acc: 0.9808\n",
      "Epoch 7/50\n",
      "171539/171539 [==============================] - 3s 18us/sample - loss: 0.0643 - acc: 0.9827\n",
      "Epoch 8/50\n",
      "171539/171539 [==============================] - 3s 18us/sample - loss: 0.0568 - acc: 0.9848\n",
      "Epoch 9/50\n",
      "171539/171539 [==============================] - 3s 18us/sample - loss: 0.0510 - acc: 0.9860\n",
      "Epoch 10/50\n",
      "171539/171539 [==============================] - 3s 16us/sample - loss: 0.0463 - acc: 0.9867\n",
      "Epoch 11/50\n",
      "171539/171539 [==============================] - 3s 18us/sample - loss: 0.0425 - acc: 0.9876\n",
      "Epoch 12/50\n",
      "171539/171539 [==============================] - 3s 18us/sample - loss: 0.0394 - acc: 0.9884\n",
      "Epoch 13/50\n",
      "171539/171539 [==============================] - 3s 18us/sample - loss: 0.0367 - acc: 0.9893\n",
      "Epoch 14/50\n",
      "171539/171539 [==============================] - 3s 18us/sample - loss: 0.0343 - acc: 0.9901\n",
      "Epoch 15/50\n",
      "171539/171539 [==============================] - 3s 18us/sample - loss: 0.0323 - acc: 0.9906\n",
      "Epoch 16/50\n",
      "171539/171539 [==============================] - 3s 18us/sample - loss: 0.0305 - acc: 0.9911\n",
      "Epoch 17/50\n",
      "171539/171539 [==============================] - 3s 18us/sample - loss: 0.0289 - acc: 0.9914\n",
      "Epoch 18/50\n",
      "171539/171539 [==============================] - 3s 18us/sample - loss: 0.0274 - acc: 0.9917\n",
      "Epoch 19/50\n",
      "171539/171539 [==============================] - 3s 18us/sample - loss: 0.0261 - acc: 0.9919\n",
      "Epoch 20/50\n",
      "171539/171539 [==============================] - 3s 18us/sample - loss: 0.0250 - acc: 0.9921\n",
      "Epoch 21/50\n",
      "171539/171539 [==============================] - 3s 18us/sample - loss: 0.0241 - acc: 0.9923\n",
      "Epoch 22/50\n",
      "171539/171539 [==============================] - 3s 18us/sample - loss: 0.0232 - acc: 0.9924\n",
      "Epoch 23/50\n",
      "171539/171539 [==============================] - 3s 18us/sample - loss: 0.0224 - acc: 0.9926\n",
      "Epoch 24/50\n",
      "171539/171539 [==============================] - 3s 18us/sample - loss: 0.0217 - acc: 0.9928\n",
      "Epoch 25/50\n",
      "171539/171539 [==============================] - 3s 18us/sample - loss: 0.0210 - acc: 0.9931\n",
      "Epoch 26/50\n",
      "171539/171539 [==============================] - 3s 18us/sample - loss: 0.0204 - acc: 0.9935\n",
      "Epoch 27/50\n",
      "171539/171539 [==============================] - 3s 18us/sample - loss: 0.0198 - acc: 0.9939\n",
      "Epoch 28/50\n",
      "171539/171539 [==============================] - 3s 18us/sample - loss: 0.0193 - acc: 0.9940\n",
      "Epoch 29/50\n",
      "171539/171539 [==============================] - 3s 18us/sample - loss: 0.0187 - acc: 0.9940\n",
      "Epoch 30/50\n",
      "171539/171539 [==============================] - 3s 16us/sample - loss: 0.0183 - acc: 0.9942\n",
      "Epoch 31/50\n",
      "171539/171539 [==============================] - 3s 18us/sample - loss: 0.0179 - acc: 0.9944\n",
      "Epoch 32/50\n",
      "171539/171539 [==============================] - 3s 18us/sample - loss: 0.0175 - acc: 0.9946\n",
      "Epoch 33/50\n",
      "171539/171539 [==============================] - 3s 18us/sample - loss: 0.0171 - acc: 0.9951\n",
      "Epoch 34/50\n",
      "171539/171539 [==============================] - 3s 18us/sample - loss: 0.0167 - acc: 0.9953\n",
      "Epoch 35/50\n",
      "171539/171539 [==============================] - 3s 18us/sample - loss: 0.0164 - acc: 0.9956\n",
      "Epoch 36/50\n",
      "171539/171539 [==============================] - 3s 18us/sample - loss: 0.0161 - acc: 0.9961\n",
      "Epoch 37/50\n",
      "171539/171539 [==============================] - 3s 18us/sample - loss: 0.0158 - acc: 0.9962\n",
      "Epoch 38/50\n",
      "171539/171539 [==============================] - 3s 18us/sample - loss: 0.0155 - acc: 0.9962\n",
      "Epoch 39/50\n",
      "171539/171539 [==============================] - 3s 18us/sample - loss: 0.0153 - acc: 0.9964\n",
      "Epoch 40/50\n",
      "171539/171539 [==============================] - 3s 18us/sample - loss: 0.0150 - acc: 0.9965\n",
      "Epoch 41/50\n",
      "171539/171539 [==============================] - 3s 18us/sample - loss: 0.0148 - acc: 0.9965\n",
      "Epoch 42/50\n",
      "171539/171539 [==============================] - 3s 18us/sample - loss: 0.0145 - acc: 0.9967\n",
      "Epoch 43/50\n",
      "171539/171539 [==============================] - 3s 18us/sample - loss: 0.0143 - acc: 0.9969\n",
      "Epoch 44/50\n",
      "171539/171539 [==============================] - 3s 18us/sample - loss: 0.0141 - acc: 0.9970\n",
      "Epoch 45/50\n",
      "171539/171539 [==============================] - 3s 18us/sample - loss: 0.0139 - acc: 0.9971\n",
      "Epoch 46/50\n",
      "171539/171539 [==============================] - 3s 18us/sample - loss: 0.0137 - acc: 0.9972\n",
      "Epoch 47/50\n",
      "171539/171539 [==============================] - 3s 18us/sample - loss: 0.0135 - acc: 0.9972\n",
      "Epoch 48/50\n",
      "171539/171539 [==============================] - 3s 17us/sample - loss: 0.0134 - acc: 0.9973\n",
      "Epoch 49/50\n",
      "171539/171539 [==============================] - 3s 18us/sample - loss: 0.0132 - acc: 0.9973\n",
      "Epoch 50/50\n",
      "171539/171539 [==============================] - 3s 17us/sample - loss: 0.0130 - acc: 0.9974\n"
     ]
    },
    {
     "data": {
      "text/plain": [
       "<tensorflow.python.keras.callbacks.History at 0x1c845608748>"
      ]
     },
     "execution_count": 6,
     "metadata": {},
     "output_type": "execute_result"
    }
   ],
   "source": [
    "#Building the ANN\n",
    "\n",
    "# Initializing the ANN\n",
    "nn = tf.keras.models.Sequential()\n",
    "\n",
    "# Adding the input layer and the first hidden layer\n",
    "nn.add(tf.keras.layers.Dense(units=32, activation='relu'))\n",
    "\n",
    "\n",
    "# Adding the input layer and the first hidden layer \n",
    "#logistic Activation function \n",
    "nn.add(tf.keras.layers.Dense(units=1, activation='sigmoid'))\n",
    "\n",
    "\n",
    "# Compiling the ANN\n",
    "nn.compile(optimizer = \"sgd\", loss = \"binary_crossentropy\", metrics = ['accuracy'])# optimizer = Stochastic Gradient Descent \n",
    "\n",
    "# Training the ANN on the Training set\n",
    "nn.fit(X_train, y_train, batch_size = 100, epochs = 50)\n",
    "\n"
   ]
  },
  {
   "cell_type": "code",
   "execution_count": 8,
   "id": "sapphire-foundation",
   "metadata": {
    "scrolled": false
   },
   "outputs": [
    {
     "name": "stdout",
     "output_type": "stream",
     "text": [
      "Confusion Matrix :\n",
      " [[15339     1]\n",
      " [  165 58013]]\n",
      "Accuracy Score :\n",
      "73352\n"
     ]
    }
   ],
   "source": [
    "# Predicting the Test set results\n",
    "y_pred = nn.predict(X_test)\n",
    "y_pred=(y_pred>0.5)\n",
    "\n",
    "# Making the Confusion Matrix\n",
    "from sklearn.metrics import confusion_matrix, accuracy_score\n",
    "cm = confusion_matrix(y_test,y_pred)\n",
    "print(\"Confusion Matrix :\\n\",cm)\n",
    "print(\"Accuracy Score :\")\n",
    "print(accuracy_score(y_test, y_pred, normalize=False))"
   ]
  },
  {
   "cell_type": "code",
   "execution_count": null,
   "id": "continental-tower",
   "metadata": {},
   "outputs": [],
   "source": []
  }
 ],
 "metadata": {
  "kernelspec": {
   "display_name": "Python 3",
   "language": "python",
   "name": "python3"
  },
  "language_info": {
   "codemirror_mode": {
    "name": "ipython",
    "version": 3
   },
   "file_extension": ".py",
   "mimetype": "text/x-python",
   "name": "python",
   "nbconvert_exporter": "python",
   "pygments_lexer": "ipython3",
   "version": "3.7.10"
  }
 },
 "nbformat": 4,
 "nbformat_minor": 5
}
