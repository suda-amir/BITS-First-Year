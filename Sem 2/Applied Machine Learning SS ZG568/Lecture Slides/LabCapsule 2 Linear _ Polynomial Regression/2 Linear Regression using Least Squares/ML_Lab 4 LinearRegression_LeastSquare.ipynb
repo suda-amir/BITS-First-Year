{
 "cells": [
  {
   "cell_type": "markdown",
   "metadata": {},
   "source": [
    "# Linear Regression with Least Squares Estimate"
   ]
  },
  {
   "cell_type": "markdown",
   "metadata": {},
   "source": [
    "## Linear Regression with implementation of least square estimates"
   ]
  },
  {
   "cell_type": "markdown",
   "metadata": {},
   "source": [
    "The linear regression line is defined as $$y = \\theta_0 + \\theta_1 x $$"
   ]
  },
  {
   "cell_type": "markdown",
   "metadata": {},
   "source": [
    "The parameters $\\theta_0$ and $\\theta_1$ can be computed using Least square estimates."
   ]
  },
  {
   "cell_type": "markdown",
   "metadata": {},
   "source": [
    "$$\\theta_1 = \\frac{\\sum_{i=1}^n ( x^i - \\bar x ) ( y^i - \\bar y ) }{\\sum_{i=1}^n ( x^i - \\bar x )^2 } $$"
   ]
  },
  {
   "cell_type": "markdown",
   "metadata": {},
   "source": [
    "$$ \\theta_0 = \\bar y - \\theta_1 \\bar x $$"
   ]
  },
  {
   "cell_type": "markdown",
   "metadata": {},
   "source": [
    "Use the above method to fit a regression line for the salary dataset. "
   ]
  },
  {
   "cell_type": "markdown",
   "metadata": {},
   "source": [
    "Reference: https://towardsdatascience.com/"
   ]
  },
  {
   "cell_type": "markdown",
   "metadata": {},
   "source": [
    "### Step 1: Import libraries and dataset"
   ]
  },
  {
   "cell_type": "code",
   "execution_count": 1,
   "metadata": {},
   "outputs": [],
   "source": [
    "## Import all the necessary libraries\n",
    "\n",
    "import numpy as np\n",
    "import matplotlib.pyplot as plt\n",
    "import pandas as pd\n",
    "\n",
    "%matplotlib inline"
   ]
  },
  {
   "cell_type": "code",
   "execution_count": 2,
   "metadata": {},
   "outputs": [
    {
     "name": "stdout",
     "output_type": "stream",
     "text": [
      "(30, 1)\n",
      "(30,)\n"
     ]
    }
   ],
   "source": [
    "## Import the dataset\n",
    "\n",
    "data = pd.read_csv('/home/seetha/data/salary_data.csv')\n",
    "# change the path as necessary\n",
    "\n",
    "X = data.iloc[:, :-1].values # copy all columns excluding last column\n",
    "Y = data.iloc[:, 1].values   # copy the last column only\n",
    "\n",
    "# View the size of the arrays X and Y\n",
    "print(X.shape)\n",
    "print(Y.shape)"
   ]
  },
  {
   "cell_type": "code",
   "execution_count": 3,
   "metadata": {},
   "outputs": [
    {
     "data": {
      "image/png": "[encoded data removed]",
      "text/plain": [
       "<Figure size 432x288 with 1 Axes>"
      ]
     },
     "metadata": {
      "needs_background": "light"
     },
     "output_type": "display_data"
    }
   ],
   "source": [
    "# Visualize the dataset\n",
    "\n",
    "plt.scatter(X, Y, color='blue')\n",
    "plt.title('Salary VS Experience (Observations)')\n",
    "plt.xlabel('Year of Experience')\n",
    "plt.ylabel('Salary')\n",
    "plt.show()"
   ]
  },
  {
   "cell_type": "markdown",
   "metadata": {},
   "source": [
    "Step 2 is skipped."
   ]
  },
  {
   "cell_type": "markdown",
   "metadata": {},
   "source": [
    "### Step 3: Create and train the machine learning model"
   ]
  },
  {
   "cell_type": "code",
   "execution_count": 4,
   "metadata": {},
   "outputs": [],
   "source": [
    "# Build the model\n",
    "\n",
    "# Find the means\n",
    "X_mean = np.mean(X)\n",
    "Y_mean = np.mean(Y)\n",
    "\n",
    "# Find the summation parts\n",
    "num = 0\n",
    "den = 0\n",
    "for i in range(len(X)):\n",
    "    num += (X[i] - X_mean)*(Y[i] - Y_mean)\n",
    "    den += (X[i] - X_mean)**2\n",
    "\n",
    "# Find the parameters\n",
    "theta1 = num / den\n",
    "theta0 = Y_mean - theta1 * X_mean\n",
    "\n"
   ]
  },
  {
   "cell_type": "markdown",
   "metadata": {},
   "source": [
    "### Step 4: Visualize the results"
   ]
  },
  {
   "cell_type": "code",
   "execution_count": 5,
   "metadata": {},
   "outputs": [
    {
     "name": "stdout",
     "output_type": "stream",
     "text": [
      "Theta1 =  [9449.96232146]\n",
      "Theta0 =  [25792.20019867]\n"
     ]
    }
   ],
   "source": [
    "# The coefficients\n",
    "\n",
    "# print the parameter theta1\n",
    "print('Theta1 = ', theta1)\n",
    "# print the parameter theta0\n",
    "print('Theta0 = ', theta0)"
   ]
  },
  {
   "cell_type": "markdown",
   "metadata": {},
   "source": [
    "### Step 5: Prediction"
   ]
  },
  {
   "cell_type": "code",
   "execution_count": 7,
   "metadata": {},
   "outputs": [
    {
     "name": "stdout",
     "output_type": "stream",
     "text": [
      "For x= 7 yrs of experience, predicted salary =  [91941.93644885]\n"
     ]
    }
   ],
   "source": [
    "# Predict the values for the given X\n",
    "Y_pred = theta1 * X + theta0\n",
    "\n",
    "# Predict values for say x = 7\n",
    "x = 7\n",
    "\n",
    "y_pred = theta1 * x + theta0\n",
    "\n",
    "print('For x= 7 yrs of experience, predicted salary = ', y_pred)"
   ]
  },
  {
   "cell_type": "code",
   "execution_count": 8,
   "metadata": {},
   "outputs": [
    {
     "data": {
      "image/png": "[encoded data removed]",
      "text/plain": [
       "<Figure size 432x288 with 1 Axes>"
      ]
     },
     "metadata": {
      "needs_background": "light"
     },
     "output_type": "display_data"
    }
   ],
   "source": [
    "# Visualize the dataset and plot the residuals\n",
    "\n",
    "fig, ax = plt.subplots()\n",
    "Y = Y.reshape(-1,1)\n",
    "\n",
    "ax.scatter(X, Y, color='blue')       # observed values\n",
    "ax.scatter(X, Y_pred, color='green') # predicted values\n",
    "ax.vlines(X,Y, Y_pred, color='red')  # residual lines\n",
    "plt.plot([min(X), max(X)], [min(Y_pred), max(Y_pred)], color='black')  # regression line\n",
    "\n",
    "plt.title('Salary VS Experience')\n",
    "plt.xlabel('Year of Experience')\n",
    "plt.ylabel('Salary')\n",
    "plt.show()"
   ]
  },
  {
   "cell_type": "markdown",
   "metadata": {},
   "source": [
    "### Step 6: Performance measures"
   ]
  },
  {
   "cell_type": "code",
   "execution_count": 9,
   "metadata": {},
   "outputs": [
    {
     "name": "stdout",
     "output_type": "stream",
     "text": [
      "Mean squared error = 31270951.72\n",
      "Variance score = 0.96\n"
     ]
    }
   ],
   "source": [
    "from sklearn.metrics import mean_squared_error, r2_score\n",
    "\n",
    "# The mean squared error\n",
    "print(\"Mean squared error = %.2f\" % mean_squared_error(Y, Y_pred))\n",
    "\n",
    "# Explained variance score: 1 is perfect prediction\n",
    "print('Variance score = %.2f' % r2_score(Y, Y_pred))"
   ]
  }
 ],
 "metadata": {
  "kernelspec": {
   "display_name": "Python 3",
   "language": "python",
   "name": "python3"
  },
  "language_info": {
   "codemirror_mode": {
    "name": "ipython",
    "version": 3
   },
   "file_extension": ".py",
   "mimetype": "text/x-python",
   "name": "python",
   "nbconvert_exporter": "python",
   "pygments_lexer": "ipython3",
   "version": "3.7.3"
  }
 },
 "nbformat": 4,
 "nbformat_minor": 2
}
