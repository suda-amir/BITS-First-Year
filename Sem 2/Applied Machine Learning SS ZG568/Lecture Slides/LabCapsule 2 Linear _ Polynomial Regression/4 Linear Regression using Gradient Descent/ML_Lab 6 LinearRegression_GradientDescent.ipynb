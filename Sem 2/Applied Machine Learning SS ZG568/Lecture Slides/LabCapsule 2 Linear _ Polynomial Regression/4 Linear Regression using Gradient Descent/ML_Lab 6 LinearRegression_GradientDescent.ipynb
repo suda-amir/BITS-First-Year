{
 "cells": [
  {
   "cell_type": "markdown",
   "metadata": {},
   "source": [
    "# Linear Regression using Gradient Descent"
   ]
  },
  {
   "cell_type": "markdown",
   "metadata": {},
   "source": [
    "## Linear Regression by implementing of gradient descent algorithm"
   ]
  },
  {
   "cell_type": "markdown",
   "metadata": {},
   "source": [
    "The linear regression line is defined as $$y = \\theta_0 + \\theta_1 x $$"
   ]
  },
  {
   "cell_type": "markdown",
   "metadata": {},
   "source": [
    "The parameters $\\theta_0$ and $\\theta_1$ can be computed using gradeint descent algorithm."
   ]
  },
  {
   "cell_type": "markdown",
   "metadata": {},
   "source": [
    "Gradeint descent algorithm is given as: \n",
    "\n",
    "\n",
    "repeat until convergence { \n",
    "\\begin{align*}\n",
    "    \\theta_1 &= \\theta_1 - \\alpha \\frac{1}{m}\\sum_{i=1}^{m} \\big ( h_\\theta (x^{(i)}) - y^{(i)} \\big ) * x^{(i)} \\\\\n",
    "    \\theta_0 &= \\theta_0 - \\alpha \\frac{1}{m}\\sum_{i=1}^{m} \\big ( h_\\theta (x^{(i)}) - y^{(i)} \\big ) \n",
    "\\end{align*}\n",
    "}"
   ]
  },
  {
   "cell_type": "markdown",
   "metadata": {},
   "source": [
    "Reference: https://towardsdatascience.com/"
   ]
  },
  {
   "cell_type": "markdown",
   "metadata": {},
   "source": [
    "### Step 1: Import libraries and dataset"
   ]
  },
  {
   "cell_type": "code",
   "execution_count": 1,
   "metadata": {},
   "outputs": [],
   "source": [
    "## Import all the necessary libraries\n",
    "\n",
    "import numpy as np\n",
    "import matplotlib.pyplot as plt\n",
    "import pandas as pd\n",
    "\n",
    "%matplotlib inline\n"
   ]
  },
  {
   "cell_type": "code",
   "execution_count": 2,
   "metadata": {},
   "outputs": [
    {
     "name": "stdout",
     "output_type": "stream",
     "text": [
      "(30,)\n",
      "(30,)\n"
     ]
    }
   ],
   "source": [
    "## Import the dataset\n",
    "\n",
    "data = pd.read_csv('/home/seetha/data/salary_data.csv')\n",
    "# change the path as necessary\n",
    "\n",
    "X = data.iloc[:, 0]\n",
    "Y = data.iloc[:, 1]\n",
    "\n",
    "# View the size of the arrays X and Y\n",
    "print(X.shape)\n",
    "print(Y.shape)"
   ]
  },
  {
   "cell_type": "code",
   "execution_count": 3,
   "metadata": {},
   "outputs": [
    {
     "data": {
      "image/png": "[encoded data removed]",
      "text/plain": [
       "<Figure size 432x288 with 1 Axes>"
      ]
     },
     "metadata": {
      "needs_background": "light"
     },
     "output_type": "display_data"
    }
   ],
   "source": [
    "# Visualize the dataset\n",
    "\n",
    "plt.scatter(X, Y, color='blue')\n",
    "plt.title('Salary VS Experience (Observations)')\n",
    "plt.xlabel('Year of Experience')\n",
    "plt.ylabel('Salary')\n",
    "plt.show()"
   ]
  },
  {
   "cell_type": "markdown",
   "metadata": {},
   "source": [
    "Step 2 is skipped.\n"
   ]
  },
  {
   "cell_type": "markdown",
   "metadata": {},
   "source": [
    "### Step 3: Create and train the machine learning model"
   ]
  },
  {
   "cell_type": "code",
   "execution_count": 4,
   "metadata": {},
   "outputs": [],
   "source": [
    "# Build the model\n",
    "\n",
    "theta1 = 0\n",
    "theta0 = 0\n",
    "\n",
    "alpha = 0.0001  # Learning Rate\n",
    "epochs = 10000  # Number of iterations to perform gradient descent\n",
    "\n",
    "m = float(len(X)) # Number of elements in X\n",
    "\n",
    "cost_history = []\n",
    "# Performing Gradient Descent \n",
    "for i in range(epochs): \n",
    "    Y_pred = theta1 * X + theta0   \n",
    "    temp1 = (-1/m) * sum(X * (Y - Y_pred))  \n",
    "    temp0 = (-1/m) * sum(Y - Y_pred)   \n",
    "    theta1 = theta1 - alpha * temp1   \n",
    "    theta0 = theta0 - alpha * temp0   \n",
    "    cost = (1/2*m) * sum((Y - Y_pred)**2)\n",
    "    cost_history.append(cost)\n",
    "    \n"
   ]
  },
  {
   "cell_type": "markdown",
   "metadata": {},
   "source": [
    "### Step 4: Visualize the results"
   ]
  },
  {
   "cell_type": "code",
   "execution_count": 5,
   "metadata": {},
   "outputs": [
    {
     "name": "stdout",
     "output_type": "stream",
     "text": [
      "Theta1 =  12316.1630541413\n",
      "Theta0 =  6477.634197171642\n"
     ]
    }
   ],
   "source": [
    "# The coefficients\n",
    "\n",
    "# print the parameter theta1\n",
    "print('Theta1 = ', theta1)\n",
    "# print the parameter theta0\n",
    "print('Theta0 = ', theta0)"
   ]
  },
  {
   "cell_type": "markdown",
   "metadata": {},
   "source": [
    "### Step 5: Prediction"
   ]
  },
  {
   "cell_type": "code",
   "execution_count": 6,
   "metadata": {},
   "outputs": [],
   "source": [
    "# Predict the values for the given X\n",
    "Y_pred = theta1 * X + theta0\n"
   ]
  },
  {
   "cell_type": "code",
   "execution_count": 7,
   "metadata": {},
   "outputs": [
    {
     "data": {
      "image/png": "[encoded data removed]",
      "text/plain": [
       "<Figure size 432x288 with 1 Axes>"
      ]
     },
     "metadata": {
      "needs_background": "light"
     },
     "output_type": "display_data"
    }
   ],
   "source": [
    "# Visualize the dataset and plot the residuals\n",
    "\n",
    "fig, ax = plt.subplots()\n",
    "\n",
    "ax.scatter(X, Y, color='blue')       # observed values\n",
    "ax.scatter(X, Y_pred, color='green') # predicted values\n",
    "ax.vlines(X,Y, Y_pred, color='red')  # residual lines\n",
    "plt.plot([min(X), max(X)], [min(Y_pred), max(Y_pred)], color='black')  # regression line\n",
    "\n",
    "plt.title('Salary VS Experience')\n",
    "plt.xlabel('Year of Experience')\n",
    "plt.ylabel('Salary')\n",
    "plt.show()"
   ]
  },
  {
   "cell_type": "code",
   "execution_count": 8,
   "metadata": {},
   "outputs": [
    {
     "data": {
      "image/png": "[encoded data removed]",
      "text/plain": [
       "<Figure size 432x288 with 1 Axes>"
      ]
     },
     "metadata": {
      "needs_background": "light"
     },
     "output_type": "display_data"
    }
   ],
   "source": [
    "# plot the cost function\n",
    "\n",
    "plt.plot(cost_history)\n",
    "plt.title('Cost Function using Gradient Descent')\n",
    "plt.xlabel(\"Number of iterations\") \n",
    "plt.ylabel(\"Cost\") \n",
    "plt.show() "
   ]
  },
  {
   "cell_type": "markdown",
   "metadata": {},
   "source": [
    "### Step 6: Performance measures"
   ]
  },
  {
   "cell_type": "code",
   "execution_count": 9,
   "metadata": {},
   "outputs": [
    {
     "name": "stdout",
     "output_type": "stream",
     "text": [
      "Mean squared error = 111918031.56\n",
      "Variance score = 0.85\n"
     ]
    }
   ],
   "source": [
    "from sklearn.metrics import mean_squared_error, r2_score\n",
    "\n",
    "# The mean squared error\n",
    "print(\"Mean squared error = %.2f\" % mean_squared_error(Y, Y_pred))\n",
    "\n",
    "# Explained variance score: 1 is perfect prediction\n",
    "print('Variance score = %.2f' % r2_score(Y, Y_pred))"
   ]
  }
 ],
 "metadata": {
  "kernelspec": {
   "display_name": "Python 3",
   "language": "python",
   "name": "python3"
  },
  "language_info": {
   "codemirror_mode": {
    "name": "ipython",
    "version": 3
   },
   "file_extension": ".py",
   "mimetype": "text/x-python",
   "name": "python",
   "nbconvert_exporter": "python",
   "pygments_lexer": "ipython3",
   "version": "3.7.3"
  }
 },
 "nbformat": 4,
 "nbformat_minor": 2
}
