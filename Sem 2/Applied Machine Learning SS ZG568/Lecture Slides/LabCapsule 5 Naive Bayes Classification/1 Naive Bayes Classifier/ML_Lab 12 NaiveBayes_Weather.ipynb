{
 "cells": [
  {
   "cell_type": "markdown",
   "metadata": {},
   "source": [
    "# Naive Bayes classifiers on Weather dataset"
   ]
  },
  {
   "cell_type": "markdown",
   "metadata": {},
   "source": [
    "Naive Bayes classification is a probabilistic approach for classification. It is based on Bayes Theorem. Naive Bayes classification uses any of the probability distributions, Gaussian distribution, Multinomial Distribution, Bernoulli distribution.\n"
   ]
  },
  {
   "cell_type": "markdown",
   "metadata": {},
   "source": [
    "## 1. Import the libraries"
   ]
  },
  {
   "cell_type": "code",
   "execution_count": 1,
   "metadata": {},
   "outputs": [],
   "source": [
    "import numpy as np\n",
    "import pandas as pd\n",
    "import matplotlib.pyplot as plt"
   ]
  },
  {
   "cell_type": "markdown",
   "metadata": {},
   "source": [
    "## 2. Prepare the Dataset\n",
    "\n",
    "The dataset is based on the following.\n",
    "![title](images/weather-dataset.JPG)"
   ]
  },
  {
   "cell_type": "code",
   "execution_count": 2,
   "metadata": {},
   "outputs": [],
   "source": [
    "# Convert the above data into Python lists. The ordering in the above data is followed.\n",
    "\n",
    "Outlook = ['sunny' ,'sunny', 'overcast', 'rainy', 'rainy', 'rainy', 'overcast',\n",
    "           'sunny', 'sunny', 'rainy', 'sunny', 'overcast', 'overcast', 'rainy']\n",
    "\n",
    "Temp = ['hot', 'hot', 'hot', 'mild', 'cool', 'cool', 'cool', 'mild', 'cool',\n",
    "       'mild','mild','mild','hot','mild']\n",
    "\n",
    "Humidity = ['high', 'high', 'high', 'high', 'normal', 'normal', 'normal', 'high',\n",
    "           'normal','normal','normal' , 'high', 'normal', 'high']\n",
    "\n",
    "Windy = ['false' ,'true' ,'false' ,'false' ,'false' ,'true' ,'true' ,'false' ,\n",
    "         'false' ,'false' ,'true' ,'true' ,'false' ,'true' ]\n",
    "         \n",
    "Play = ['no','no','yes','yes','yes','no','yes','no',\n",
    "        'yes','yes','yes','yes','yes','no']\n"
   ]
  },
  {
   "cell_type": "code",
   "execution_count": 3,
   "metadata": {},
   "outputs": [
    {
     "name": "stdout",
     "output_type": "stream",
     "text": [
      "    Outlook  Temp Humidity  Windy Play\n",
      "0     sunny   hot     high  false   no\n",
      "1     sunny   hot     high   true   no\n",
      "2  overcast   hot     high  false  yes\n",
      "3     rainy  mild     high  false  yes\n",
      "4     rainy  cool   normal  false  yes\n"
     ]
    }
   ],
   "source": [
    "# create a dataframe from the above lists.\n",
    "\n",
    "weatherdata = pd.DataFrame(\n",
    "    {'Outlook': Outlook,\n",
    "     'Temp': Temp,\n",
    "     'Humidity': Humidity,\n",
    "     'Windy': Windy,\n",
    "     'Play': Play\n",
    "    })\n",
    "print(weatherdata.head())"
   ]
  },
  {
   "cell_type": "code",
   "execution_count": 4,
   "metadata": {},
   "outputs": [
    {
     "name": "stdout",
     "output_type": "stream",
     "text": [
      "   outlook  temp  humidity  windy\n",
      "0        2     1         0      0\n",
      "1        2     1         0      1\n",
      "2        0     1         0      0\n",
      "3        1     2         0      0\n",
      "4        1     0         1      0\n",
      "Play =  [0 0 1 1 1 0 1 0 1 1 1 1 1 0]\n"
     ]
    }
   ],
   "source": [
    "# Encode the list as 0,1,2,...\n",
    "\n",
    "from sklearn import preprocessing\n",
    "\n",
    "le = preprocessing.LabelEncoder()\n",
    "\n",
    "# apply the label encoder for each list\n",
    "outlook = le.fit_transform(Outlook)      # 2,2,0,1,1\n",
    "temp = le.fit_transform(Temp)            # 1,1,1,2,0\n",
    "humidity = le.fit_transform(Humidity)    # 0,0,0,0,1\n",
    "windy = le.fit_transform(Windy)          # 0,1,0,0,0\n",
    "play = le.fit_transform(Play)            # 0,0,1,1,1\n",
    "\n",
    "\n",
    "# create a dataframe from the encoded lists.\n",
    "weatherFeatures = pd.DataFrame(\n",
    "    {'outlook': outlook,\n",
    "     'temp': temp,\n",
    "     'humidity': humidity,\n",
    "     'windy': windy,\n",
    "    })\n",
    "print(weatherFeatures.head())\n",
    "\n",
    "print('Play = ', play)"
   ]
  },
  {
   "cell_type": "markdown",
   "metadata": {},
   "source": [
    "## Visualize the dataset"
   ]
  },
  {
   "cell_type": "code",
   "execution_count": 5,
   "metadata": {},
   "outputs": [],
   "source": [
    "data2d = weatherFeatures.loc[:,['outlook','windy']]"
   ]
  },
  {
   "cell_type": "code",
   "execution_count": 6,
   "metadata": {},
   "outputs": [
    {
     "data": {
      "image/png": "[encoded data removed]",
      "text/plain": [
       "<Figure size 432x288 with 1 Axes>"
      ]
     },
     "metadata": {
      "needs_background": "light"
     },
     "output_type": "display_data"
    }
   ],
   "source": [
    "pos = data2d.loc[play == 1]\n",
    "neg = data2d.loc[play == 0]\n",
    "\n",
    "plt.scatter(pos.iloc[:, 0], pos.iloc[:, 1], label='Play')\n",
    "plt.scatter(neg.iloc[:, 0], neg.iloc[:, 1],  label='Not play')\n",
    "\n",
    "plt.xlabel('Outlook')\n",
    "plt.ylabel('Windy')\n",
    "plt.title('Weather data')\n",
    "plt.legend()\n",
    "plt.show()\n",
    "\n"
   ]
  },
  {
   "cell_type": "markdown",
   "metadata": {},
   "source": [
    "## 3. Build the classifier  \n",
    "## 4. Make predictions for new Data"
   ]
  },
  {
   "cell_type": "code",
   "execution_count": 7,
   "metadata": {},
   "outputs": [
    {
     "name": "stdout",
     "output_type": "stream",
     "text": [
      "Predicted Value for training data: [0 0 1 1 1 1 1 0 1 1 1 1 1 0]\n",
      "Predicted Value for new data: [1]\n"
     ]
    }
   ],
   "source": [
    "from sklearn.naive_bayes import GaussianNB\n",
    "\n",
    "# create an object of the GaussianNB classifier\n",
    "gnb_classifier = GaussianNB()\n",
    "\n",
    "# train the classifier\n",
    "gnb_classifier.fit(weatherFeatures, play)\n",
    "\n",
    "\n",
    "# predict for training data\n",
    "predicted= gnb_classifier.predict(weatherFeatures)\n",
    "print(\"Predicted Value for training data:\", predicted)\n",
    "\n",
    "# predict for new data # 0:overcast, 2:mild, 1:normal, 1:true\n",
    "y= gnb_classifier.predict([[0,2,1,1]]) \n",
    "print(\"Predicted Value for new data:\", y)\n"
   ]
  },
  {
   "cell_type": "code",
   "execution_count": 8,
   "metadata": {},
   "outputs": [
    {
     "name": "stdout",
     "output_type": "stream",
     "text": [
      "Predicted Value for training data: [0 0 1 0 1 1 1 0 1 1 1 1 1 0]\n",
      "Predicted Value for new data: [1]\n"
     ]
    }
   ],
   "source": [
    "from sklearn.naive_bayes import BernoulliNB\n",
    "\n",
    "# create an object of the GaussianNB classifier\n",
    "bnb = BernoulliNB()\n",
    "\n",
    "# train the classifier\n",
    "bnb.fit(weatherFeatures, play)\n",
    "\n",
    "\n",
    "# predict for training data\n",
    "predicted= bnb.predict(weatherFeatures)\n",
    "print(\"Predicted Value for training data:\", predicted)\n",
    "\n",
    "\n",
    "# predict for new data # 0:overcast, 2:mild, 1:normal, 1:true\n",
    "y= bnb.predict([[0,2,1,1]])\n",
    "print(\"Predicted Value for new data:\", y)\n"
   ]
  },
  {
   "cell_type": "code",
   "execution_count": 9,
   "metadata": {},
   "outputs": [
    {
     "name": "stdout",
     "output_type": "stream",
     "text": [
      "Predicted Value for training data: [0 0 1 1 1 1 1 1 1 1 1 1 1 1]\n",
      "Predicted Value for new data: [1]\n"
     ]
    }
   ],
   "source": [
    "from sklearn.naive_bayes import MultinomialNB\n",
    "\n",
    "mnb = MultinomialNB()\n",
    "\n",
    "# train the classifier\n",
    "mnb.fit(weatherFeatures, play)\n",
    "\n",
    "\n",
    "# predict for training data\n",
    "predicted= mnb.predict(weatherFeatures)\n",
    "print(\"Predicted Value for training data:\", predicted)\n",
    "\n",
    "\n",
    "# predict for new data # 0:overcast, 2:mild, 1:normal, 1:true\n",
    "y= mnb.predict([[0,2,1,1]]) \n",
    "print(\"Predicted Value for new data:\", y)\n"
   ]
  },
  {
   "cell_type": "markdown",
   "metadata": {},
   "source": [
    "## 5. Performance Measures"
   ]
  },
  {
   "cell_type": "code",
   "execution_count": 10,
   "metadata": {},
   "outputs": [
    {
     "name": "stdout",
     "output_type": "stream",
     "text": [
      "GaussianNB =  92.85714285714286\n",
      "BernoulliNB =  85.71428571428571\n",
      "MultinomialNB =  78.57142857142857\n"
     ]
    }
   ],
   "source": [
    "# display the accuracy\n",
    "\n",
    "print('GaussianNB = ', gnb_classifier.score(weatherFeatures, play)*100 )\n",
    "\n",
    "print('BernoulliNB = ', bnb.score(weatherFeatures, play)*100 )\n",
    "\n",
    "print('MultinomialNB = ', mnb.score(weatherFeatures, play)*100 )"
   ]
  },
  {
   "cell_type": "markdown",
   "metadata": {},
   "source": [
    "## 6. Visualize the decision boundary"
   ]
  },
  {
   "cell_type": "code",
   "execution_count": 11,
   "metadata": {},
   "outputs": [
    {
     "data": {
      "image/png": "[encoded data removed]",
      "text/plain": [
       "<Figure size 432x288 with 1 Axes>"
      ]
     },
     "metadata": {
      "needs_background": "light"
     },
     "output_type": "display_data"
    }
   ],
   "source": [
    "# Visualize  the classifier\n",
    "\n",
    "# get min of X\n",
    "x_min, x_max = data2d.iloc[:, 0].min() - .5, data2d.iloc[:, 0].max() + .5\n",
    "\n",
    "# create a meshgrid\n",
    "xx, yy  = np.meshgrid(np.linspace(x_min, x_max, num=100), np.linspace(x_min, x_max+1, num=100))\n",
    "\n",
    "gnb = GaussianNB()\n",
    "gnb.fit(data2d,play)\n",
    "\n",
    "# predict for the meshgrid\n",
    "z = gnb.predict( np.c_[xx.ravel(), yy.ravel()] )\n",
    "z = z.reshape(xx.shape)\n",
    "\n",
    "# plot the meshgrid\n",
    "plt.pcolormesh(xx, yy, z, cmap=plt.cm.Paired)\n",
    "\n",
    "# plot decision boundary\n",
    "plt.contour(xx, yy, z)\n",
    "\n",
    "# plot the dataset\n",
    "plt.scatter(pos.iloc[:, 0], pos.iloc[:, 1], label='Play')\n",
    "plt.scatter(neg.iloc[:, 0], neg.iloc[:, 1],  label='Not play')\n",
    "\n",
    "plt.xlabel('Outlook')\n",
    "plt.ylabel('Windy')\n",
    "plt.xticks(np.arange(-0.5, 2.6, step=0.5))\n",
    "plt.yticks(np.arange(-0.5, 2.6, step=0.5))\n",
    "plt.ylim(-0.5,2.5)\n",
    "plt.ylim(-0.5,1.5)\n",
    "plt.title('Weather data decision boundary')\n",
    "plt.legend()\n",
    "plt.show()"
   ]
  }
 ],
 "metadata": {
  "kernelspec": {
   "display_name": "Python 3",
   "language": "python",
   "name": "python3"
  },
  "language_info": {
   "codemirror_mode": {
    "name": "ipython",
    "version": 3
   },
   "file_extension": ".py",
   "mimetype": "text/x-python",
   "name": "python",
   "nbconvert_exporter": "python",
   "pygments_lexer": "ipython3",
   "version": "3.7.3"
  }
 },
 "nbformat": 4,
 "nbformat_minor": 2
}
